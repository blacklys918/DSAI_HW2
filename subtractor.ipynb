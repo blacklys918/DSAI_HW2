{
 "cells": [
  {
   "cell_type": "markdown",
   "metadata": {},
   "source": [
    "<font size=6>Import"
   ]
  },
  {
   "cell_type": "code",
   "execution_count": 1,
   "metadata": {
    "scrolled": false
   },
   "outputs": [
    {
     "name": "stderr",
     "output_type": "stream",
     "text": [
      "c:\\users\\yang\\anaconda3\\envs\\tensorflow\\lib\\site-packages\\h5py\\__init__.py:36: FutureWarning: Conversion of the second argument of issubdtype from `float` to `np.floating` is deprecated. In future, it will be treated as `np.float64 == np.dtype(float).type`.\n",
      "  from ._conv import register_converters as _register_converters\n",
      "Using TensorFlow backend.\n"
     ]
    }
   ],
   "source": [
    "from keras.models import Sequential\n",
    "from keras import layers\n",
    "import numpy as np\n",
    "from six.moves import range"
   ]
  },
  {
   "cell_type": "markdown",
   "metadata": {},
   "source": [
    "<font size=6> Parameters Config"
   ]
  },
  {
   "cell_type": "code",
   "execution_count": 2,
   "metadata": {},
   "outputs": [],
   "source": [
    "class colors:\n",
    "    ok = '\\033[92m'\n",
    "    fail = '\\033[91m'\n",
    "    close = '\\033[0m'"
   ]
  },
  {
   "cell_type": "code",
   "execution_count": 3,
   "metadata": {},
   "outputs": [],
   "source": [
    "TRAINING_SIZE = 80000\n",
    "DIGITS = 3\n",
    "REVERSE = False\n",
    "MAXLEN = DIGITS + 1 + DIGITS\n",
    "chars = '0123456789- '\n",
    "RNN = layers.LSTM\n",
    "HIDDEN_SIZE = 128\n",
    "BATCH_SIZE = 128\n",
    "LAYERS = 1"
   ]
  },
  {
   "cell_type": "code",
   "execution_count": 4,
   "metadata": {},
   "outputs": [],
   "source": [
    "class CharacterTable(object):\n",
    "    def __init__(self, chars):\n",
    "        self.chars = sorted(set(chars))\n",
    "        self.char_indices = dict((c, i) for i, c in enumerate(self.chars))\n",
    "        self.indices_char = dict((i, c) for i, c in enumerate(self.chars))\n",
    "    \n",
    "    def encode(self, C, num_rows):\n",
    "        x = np.zeros((num_rows, len(self.chars)))\n",
    "        for i, c in enumerate(C):\n",
    "            x[i, self.char_indices[c]] = 1\n",
    "        return x\n",
    "    \n",
    "    def decode(self, x, calc_argmax=True):\n",
    "        if calc_argmax:\n",
    "            x = x.argmax(axis=-1)\n",
    "        return \"\".join(self.indices_char[i] for i in x)"
   ]
  },
  {
   "cell_type": "code",
   "execution_count": 5,
   "metadata": {},
   "outputs": [],
   "source": [
    "ctable = CharacterTable(chars)"
   ]
  },
  {
   "cell_type": "code",
   "execution_count": 6,
   "metadata": {},
   "outputs": [
    {
     "data": {
      "text/plain": [
       "{0: ' ',\n",
       " 1: '-',\n",
       " 2: '0',\n",
       " 3: '1',\n",
       " 4: '2',\n",
       " 5: '3',\n",
       " 6: '4',\n",
       " 7: '5',\n",
       " 8: '6',\n",
       " 9: '7',\n",
       " 10: '8',\n",
       " 11: '9'}"
      ]
     },
     "execution_count": 6,
     "metadata": {},
     "output_type": "execute_result"
    }
   ],
   "source": [
    "ctable.indices_char"
   ]
  },
  {
   "cell_type": "markdown",
   "metadata": {},
   "source": [
    "<font size=6> Data Generation"
   ]
  },
  {
   "cell_type": "code",
   "execution_count": 7,
   "metadata": {},
   "outputs": [
    {
     "name": "stdout",
     "output_type": "stream",
     "text": [
      "Generating data...\n",
      "Total addition questions: 80000\n"
     ]
    }
   ],
   "source": [
    "questions = []\n",
    "expected = []\n",
    "seen = set()\n",
    "print('Generating data...')\n",
    "while len(questions) < TRAINING_SIZE:\n",
    "    f = lambda: int(''.join(np.random.choice(list('0123456789')) for i in range(np.random.randint(1, DIGITS + 1))))\n",
    "    a, b = f(), f()\n",
    "    if a<=b:\n",
    "        c=b\n",
    "        b=a\n",
    "        a=c\n",
    "    key = tuple(sorted((a, b)))\n",
    "    if key in seen:\n",
    "        continue\n",
    "    seen.add(key)\n",
    "    q = '{}-{}'.format(a, b)\n",
    "    query = q + ' ' * (MAXLEN - len(q))\n",
    "    ans = str(a - b)\n",
    "    ans += ' ' * (DIGITS + 1 - len(ans))\n",
    "    if REVERSE:\n",
    "        query = query[::-1]\n",
    "    questions.append(query)\n",
    "    expected.append(ans)\n",
    "print('Total addition questions:', len(questions))"
   ]
  },
  {
   "cell_type": "code",
   "execution_count": 8,
   "metadata": {},
   "outputs": [
    {
     "name": "stdout",
     "output_type": "stream",
     "text": [
      "['690-2  ', '949-91 ', '70-0   ', '96-85  ', '820-1  '] ['688 ', '858 ', '70  ', '11  ', '819 ']\n"
     ]
    }
   ],
   "source": [
    "print(questions[:5], expected[:5])"
   ]
  },
  {
   "cell_type": "markdown",
   "metadata": {},
   "source": [
    "<font size=6>Processing"
   ]
  },
  {
   "cell_type": "code",
   "execution_count": 9,
   "metadata": {},
   "outputs": [
    {
     "name": "stdout",
     "output_type": "stream",
     "text": [
      "Vectorization...\n"
     ]
    }
   ],
   "source": [
    "print('Vectorization...')\n",
    "x = np.zeros((len(questions), MAXLEN, len(chars)), dtype=np.bool)\n",
    "y = np.zeros((len(expected), DIGITS + 1, len(chars)), dtype=np.bool)\n",
    "for i, sentence in enumerate(questions):\n",
    "    x[i] = ctable.encode(sentence, MAXLEN)\n",
    "for i, sentence in enumerate(expected):\n",
    "    y[i] = ctable.encode(sentence, DIGITS + 1)"
   ]
  },
  {
   "cell_type": "code",
   "execution_count": 10,
   "metadata": {},
   "outputs": [
    {
     "name": "stdout",
     "output_type": "stream",
     "text": [
      "Training Data:\n",
      "(18000, 7, 12)\n",
      "(18000, 4, 12)\n",
      "Validation Data:\n",
      "(2000, 7, 12)\n",
      "(2000, 4, 12)\n",
      "Testing Data:\n",
      "(60000, 7, 12)\n",
      "(60000, 4, 12)\n"
     ]
    }
   ],
   "source": [
    "indices = np.arange(len(y))\n",
    "np.random.shuffle(indices)\n",
    "x = x[indices]\n",
    "y = y[indices]\n",
    "\n",
    "# train_test_split\n",
    "train_x = x[:20000]\n",
    "train_y = y[:20000]\n",
    "test_x = x[20000:]\n",
    "test_y = y[20000:]\n",
    "\n",
    "split_at = len(train_x) - len(train_x) // 10\n",
    "(x_train, x_val) = train_x[:split_at], train_x[split_at:]\n",
    "(y_train, y_val) = train_y[:split_at], train_y[split_at:]\n",
    "\n",
    "print('Training Data:')\n",
    "print(x_train.shape)\n",
    "print(y_train.shape)\n",
    "\n",
    "print('Validation Data:')\n",
    "print(x_val.shape)\n",
    "print(y_val.shape)\n",
    "\n",
    "print('Testing Data:')\n",
    "print(test_x.shape)\n",
    "print(test_y.shape)"
   ]
  },
  {
   "cell_type": "code",
   "execution_count": 11,
   "metadata": {},
   "outputs": [
    {
     "name": "stdout",
     "output_type": "stream",
     "text": [
      "input:  [[[False False False False False False False  True False False False\n",
      "   False]\n",
      "  [False False False  True False False False False False False False\n",
      "   False]\n",
      "  [False False False False False False False False False False  True\n",
      "   False]\n",
      "  [False  True False False False False False False False False False\n",
      "   False]\n",
      "  [False False False False  True False False False False False False\n",
      "   False]\n",
      "  [False False False False  True False False False False False False\n",
      "   False]\n",
      "  [False False False False False False False False False False False\n",
      "    True]]\n",
      "\n",
      " [[False False False False False False False  True False False False\n",
      "   False]\n",
      "  [False False False False  True False False False False False False\n",
      "   False]\n",
      "  [False False False False False False False False False  True False\n",
      "   False]\n",
      "  [False  True False False False False False False False False False\n",
      "   False]\n",
      "  [False False False False False  True False False False False False\n",
      "   False]\n",
      "  [False False False False False False False False False False  True\n",
      "   False]\n",
      "  [False False False False False  True False False False False False\n",
      "   False]]\n",
      "\n",
      " [[False False False  True False False False False False False False\n",
      "   False]\n",
      "  [False False False False False False False False False False False\n",
      "    True]\n",
      "  [False False False False False False False False False False False\n",
      "    True]\n",
      "  [False  True False False False False False False False False False\n",
      "   False]\n",
      "  [False False False False False False False  True False False False\n",
      "   False]\n",
      "  [False False  True False False False False False False False False\n",
      "   False]\n",
      "  [ True False False False False False False False False False False\n",
      "   False]]] \n",
      "\n",
      " label:  [[[False False False False  True False False False False False False\n",
      "   False]\n",
      "  [False False False False False False False False False False  True\n",
      "   False]\n",
      "  [False False False False False False False False False False False\n",
      "    True]\n",
      "  [ True False False False False False False False False False False\n",
      "   False]]\n",
      "\n",
      " [[False False False  True False False False False False False False\n",
      "   False]\n",
      "  [False False False False False False  True False False False False\n",
      "   False]\n",
      "  [False False False False False False  True False False False False\n",
      "   False]\n",
      "  [ True False False False False False False False False False False\n",
      "   False]]\n",
      "\n",
      " [[False False False  True False False False False False False False\n",
      "   False]\n",
      "  [False False False False False False  True False False False False\n",
      "   False]\n",
      "  [False False False False False False False False False False False\n",
      "    True]\n",
      "  [ True False False False False False False False False False False\n",
      "   False]]]\n"
     ]
    }
   ],
   "source": [
    "print(\"input: \", x_train[:3], '\\n\\n', \"label: \", y_train[:3])"
   ]
  },
  {
   "cell_type": "markdown",
   "metadata": {},
   "source": [
    "<font size=6> Build Model"
   ]
  },
  {
   "cell_type": "code",
   "execution_count": 12,
   "metadata": {},
   "outputs": [
    {
     "name": "stdout",
     "output_type": "stream",
     "text": [
      "Build model...\n",
      "_________________________________________________________________\n",
      "Layer (type)                 Output Shape              Param #   \n",
      "=================================================================\n",
      "lstm_1 (LSTM)                (None, 128)               72192     \n",
      "_________________________________________________________________\n",
      "repeat_vector_1 (RepeatVecto (None, 4, 128)            0         \n",
      "_________________________________________________________________\n",
      "lstm_2 (LSTM)                (None, 4, 128)            131584    \n",
      "_________________________________________________________________\n",
      "time_distributed_1 (TimeDist (None, 4, 12)             1548      \n",
      "=================================================================\n",
      "Total params: 205,324\n",
      "Trainable params: 205,324\n",
      "Non-trainable params: 0\n",
      "_________________________________________________________________\n"
     ]
    }
   ],
   "source": [
    "print(\"Build model...\")\n",
    "model = Sequential()\n",
    "model.add(RNN(HIDDEN_SIZE, input_shape=(MAXLEN, len(chars))))\n",
    "model.add(layers.RepeatVector(DIGITS + 1))\n",
    "\n",
    "for _ in range(LAYERS):\n",
    "    model.add(RNN(HIDDEN_SIZE, return_sequences= True))\n",
    "\n",
    "model.add(layers.TimeDistributed(layers.Dense(len(chars), activation= \"softmax\")))\n",
    "model.compile(loss='categorical_crossentropy',\n",
    "              optimizer='adam',\n",
    "              metrics=['accuracy'])\n",
    "model.summary()"
   ]
  },
  {
   "cell_type": "markdown",
   "metadata": {},
   "source": [
    "<font size=6>Training"
   ]
  },
  {
   "cell_type": "code",
   "execution_count": 13,
   "metadata": {},
   "outputs": [
    {
     "name": "stdout",
     "output_type": "stream",
     "text": [
      "\n",
      "--------------------------------------------------\n",
      "Iteration 0\n",
      "Train on 18000 samples, validate on 2000 samples\n",
      "Epoch 1/100\n",
      "18000/18000 [==============================] - 5s 299us/step - loss: 1.8885 - acc: 0.3266 - val_loss: 1.7410 - val_acc: 0.3488\n",
      "Epoch 2/100\n",
      "18000/18000 [==============================] - 4s 197us/step - loss: 1.7182 - acc: 0.3568 - val_loss: 1.6865 - val_acc: 0.3642\n",
      "Epoch 3/100\n",
      "18000/18000 [==============================] - 4s 195us/step - loss: 1.6538 - acc: 0.3747 - val_loss: 1.6239 - val_acc: 0.3929\n",
      "Epoch 4/100\n",
      "18000/18000 [==============================] - 3s 187us/step - loss: 1.6061 - acc: 0.3990 - val_loss: 1.5789 - val_acc: 0.4095\n",
      "Epoch 5/100\n",
      "18000/18000 [==============================] - 3s 191us/step - loss: 1.5564 - acc: 0.4198 - val_loss: 1.5312 - val_acc: 0.4354\n",
      "Epoch 6/100\n",
      "18000/18000 [==============================] - 3s 192us/step - loss: 1.5033 - acc: 0.4445 - val_loss: 1.4773 - val_acc: 0.4619\n",
      "Epoch 7/100\n",
      "18000/18000 [==============================] - 3s 193us/step - loss: 1.4500 - acc: 0.4657 - val_loss: 1.4214 - val_acc: 0.4836\n",
      "Epoch 8/100\n",
      "18000/18000 [==============================] - 4s 198us/step - loss: 1.4010 - acc: 0.4841 - val_loss: 1.3736 - val_acc: 0.4966\n",
      "Epoch 9/100\n",
      "18000/18000 [==============================] - 4s 210us/step - loss: 1.3574 - acc: 0.5001 - val_loss: 1.3447 - val_acc: 0.5044\n",
      "Epoch 10/100\n",
      "18000/18000 [==============================] - 4s 201us/step - loss: 1.3202 - acc: 0.5150 - val_loss: 1.3039 - val_acc: 0.5223\n",
      "Epoch 11/100\n",
      "18000/18000 [==============================] - 3s 193us/step - loss: 1.2871 - acc: 0.5275 - val_loss: 1.2753 - val_acc: 0.5329\n",
      "Epoch 12/100\n",
      "18000/18000 [==============================] - 4s 197us/step - loss: 1.2601 - acc: 0.5378 - val_loss: 1.2345 - val_acc: 0.5514\n",
      "Epoch 13/100\n",
      "18000/18000 [==============================] - 4s 195us/step - loss: 1.2235 - acc: 0.5531 - val_loss: 1.2203 - val_acc: 0.5495\n",
      "Epoch 14/100\n",
      "18000/18000 [==============================] - 4s 200us/step - loss: 1.1904 - acc: 0.5641 - val_loss: 1.1618 - val_acc: 0.5714\n",
      "Epoch 15/100\n",
      "18000/18000 [==============================] - 3s 187us/step - loss: 1.1520 - acc: 0.5805 - val_loss: 1.1415 - val_acc: 0.5758\n",
      "Epoch 16/100\n",
      "18000/18000 [==============================] - 3s 188us/step - loss: 1.1121 - acc: 0.5943 - val_loss: 1.0907 - val_acc: 0.6011\n",
      "Epoch 17/100\n",
      "18000/18000 [==============================] - 3s 180us/step - loss: 1.0766 - acc: 0.6069 - val_loss: 1.0801 - val_acc: 0.6009\n",
      "Epoch 18/100\n",
      "18000/18000 [==============================] - 3s 179us/step - loss: 1.0491 - acc: 0.6165 - val_loss: 1.0310 - val_acc: 0.6239\n",
      "Epoch 19/100\n",
      "18000/18000 [==============================] - 3s 191us/step - loss: 1.0212 - acc: 0.6272 - val_loss: 1.0138 - val_acc: 0.6269\n",
      "Epoch 20/100\n",
      "18000/18000 [==============================] - 4s 225us/step - loss: 0.9968 - acc: 0.6371 - val_loss: 0.9977 - val_acc: 0.6376\n",
      "Epoch 21/100\n",
      "18000/18000 [==============================] - 4s 241us/step - loss: 0.9808 - acc: 0.6426 - val_loss: 0.9919 - val_acc: 0.6264\n",
      "Epoch 22/100\n",
      "18000/18000 [==============================] - 4s 198us/step - loss: 0.9652 - acc: 0.6472 - val_loss: 0.9655 - val_acc: 0.6463\n",
      "Epoch 23/100\n",
      "18000/18000 [==============================] - 3s 188us/step - loss: 0.9420 - acc: 0.6572 - val_loss: 0.9431 - val_acc: 0.6564\n",
      "Epoch 24/100\n",
      "18000/18000 [==============================] - 4s 196us/step - loss: 0.9223 - acc: 0.6665 - val_loss: 0.9394 - val_acc: 0.6581\n",
      "Epoch 25/100\n",
      "18000/18000 [==============================] - 4s 199us/step - loss: 0.9162 - acc: 0.6655 - val_loss: 0.9225 - val_acc: 0.6611\n",
      "Epoch 26/100\n",
      "18000/18000 [==============================] - 3s 190us/step - loss: 0.8883 - acc: 0.6796 - val_loss: 0.8939 - val_acc: 0.6779\n",
      "Epoch 27/100\n",
      "18000/18000 [==============================] - 4s 201us/step - loss: 0.8751 - acc: 0.6835 - val_loss: 0.8892 - val_acc: 0.6767\n",
      "Epoch 28/100\n",
      "18000/18000 [==============================] - 4s 201us/step - loss: 0.8614 - acc: 0.6881 - val_loss: 0.8863 - val_acc: 0.6766\n",
      "Epoch 29/100\n",
      "18000/18000 [==============================] - 4s 205us/step - loss: 0.8428 - acc: 0.6962 - val_loss: 0.8771 - val_acc: 0.6790\n",
      "Epoch 30/100\n",
      "18000/18000 [==============================] - 3s 189us/step - loss: 0.8325 - acc: 0.6967 - val_loss: 0.8532 - val_acc: 0.6884\n",
      "Epoch 31/100\n",
      "18000/18000 [==============================] - 3s 188us/step - loss: 0.8145 - acc: 0.7035 - val_loss: 0.8336 - val_acc: 0.6914\n",
      "Epoch 32/100\n",
      "18000/18000 [==============================] - 3s 188us/step - loss: 0.7928 - acc: 0.7121 - val_loss: 0.8194 - val_acc: 0.6994\n",
      "Epoch 33/100\n",
      "18000/18000 [==============================] - 3s 192us/step - loss: 0.7734 - acc: 0.7203 - val_loss: 0.8173 - val_acc: 0.6931\n",
      "Epoch 34/100\n",
      "18000/18000 [==============================] - 3s 193us/step - loss: 0.7528 - acc: 0.7263 - val_loss: 0.7800 - val_acc: 0.7100\n",
      "Epoch 35/100\n",
      "18000/18000 [==============================] - 4s 209us/step - loss: 0.7260 - acc: 0.7368 - val_loss: 0.7686 - val_acc: 0.7110\n",
      "Epoch 36/100\n",
      "18000/18000 [==============================] - 3s 188us/step - loss: 0.7050 - acc: 0.7423 - val_loss: 0.7604 - val_acc: 0.7039\n",
      "Epoch 37/100\n",
      "18000/18000 [==============================] - 4s 194us/step - loss: 0.6761 - acc: 0.7535 - val_loss: 0.7176 - val_acc: 0.7284\n",
      "Epoch 38/100\n",
      "18000/18000 [==============================] - 3s 192us/step - loss: 0.6472 - acc: 0.7646 - val_loss: 0.6789 - val_acc: 0.7434\n",
      "Epoch 39/100\n",
      "18000/18000 [==============================] - 3s 192us/step - loss: 0.6169 - acc: 0.7766 - val_loss: 0.6408 - val_acc: 0.7600\n",
      "Epoch 40/100\n",
      "18000/18000 [==============================] - 4s 200us/step - loss: 0.5887 - acc: 0.7877 - val_loss: 0.6202 - val_acc: 0.7604\n",
      "Epoch 41/100\n",
      "18000/18000 [==============================] - 3s 187us/step - loss: 0.5554 - acc: 0.8016 - val_loss: 0.5935 - val_acc: 0.7753\n",
      "Epoch 42/100\n",
      "18000/18000 [==============================] - 4s 220us/step - loss: 0.5269 - acc: 0.8129 - val_loss: 0.5598 - val_acc: 0.7894\n",
      "Epoch 43/100\n",
      "18000/18000 [==============================] - 3s 194us/step - loss: 0.4914 - acc: 0.8282 - val_loss: 0.5262 - val_acc: 0.7993\n",
      "Epoch 44/100\n",
      "18000/18000 [==============================] - 3s 192us/step - loss: 0.4620 - acc: 0.8387 - val_loss: 0.4945 - val_acc: 0.8151A: 0s - loss: 0.4637 - acc:  - ETA: 0s - loss: 0.4620 - acc: 0.8\n",
      "Epoch 45/100\n",
      "18000/18000 [==============================] - 4s 208us/step - loss: 0.4293 - acc: 0.8528 - val_loss: 0.4656 - val_acc: 0.8254\n",
      "Epoch 46/100\n",
      "18000/18000 [==============================] - 4s 220us/step - loss: 0.4030 - acc: 0.8634 - val_loss: 0.4607 - val_acc: 0.8197\n",
      "Epoch 47/100\n",
      "18000/18000 [==============================] - 4s 234us/step - loss: 0.3884 - acc: 0.8668 - val_loss: 0.4194 - val_acc: 0.8423\n",
      "Epoch 48/100\n",
      "18000/18000 [==============================] - 4s 233us/step - loss: 0.3536 - acc: 0.8868 - val_loss: 0.3831 - val_acc: 0.8659\n",
      "Epoch 49/100\n",
      "18000/18000 [==============================] - 4s 207us/step - loss: 0.3307 - acc: 0.8960 - val_loss: 0.3648 - val_acc: 0.8746\n",
      "Epoch 50/100\n",
      "18000/18000 [==============================] - 4s 231us/step - loss: 0.3075 - acc: 0.9066 - val_loss: 0.3454 - val_acc: 0.8809: 0s - loss: 0.3077 - acc: 0.906 - ETA: 0s - loss: 0.3078 - acc: 0.90\n",
      "Epoch 51/100\n",
      "18000/18000 [==============================] - 4s 229us/step - loss: 0.2912 - acc: 0.9136 - val_loss: 0.3653 - val_acc: 0.8640\n",
      "Epoch 52/100\n",
      "18000/18000 [==============================] - 4s 196us/step - loss: 0.2774 - acc: 0.9159 - val_loss: 0.3063 - val_acc: 0.8972\n",
      "Epoch 53/100\n",
      "18000/18000 [==============================] - 4s 209us/step - loss: 0.2551 - acc: 0.9273 - val_loss: 0.2906 - val_acc: 0.9024\n",
      "Epoch 54/100\n",
      "18000/18000 [==============================] - 4s 222us/step - loss: 0.2422 - acc: 0.9310 - val_loss: 0.2949 - val_acc: 0.8960\n",
      "Epoch 55/100\n",
      "18000/18000 [==============================] - 4s 195us/step - loss: 0.2336 - acc: 0.9326 - val_loss: 0.2782 - val_acc: 0.9059\n",
      "Epoch 56/100\n",
      "18000/18000 [==============================] - 4s 203us/step - loss: 0.2136 - acc: 0.9421 - val_loss: 0.2488 - val_acc: 0.9204\n",
      "Epoch 57/100\n"
     ]
    },
    {
     "name": "stdout",
     "output_type": "stream",
     "text": [
      "18000/18000 [==============================] - 4s 215us/step - loss: 0.1990 - acc: 0.9469 - val_loss: 0.2413 - val_acc: 0.9262\n",
      "Epoch 58/100\n",
      "18000/18000 [==============================] - 4s 208us/step - loss: 0.1918 - acc: 0.9477 - val_loss: 0.2352 - val_acc: 0.9218\n",
      "Epoch 59/100\n",
      "18000/18000 [==============================] - 5s 252us/step - loss: 0.1789 - acc: 0.9537 - val_loss: 0.2386 - val_acc: 0.9166\n",
      "Epoch 60/100\n",
      "18000/18000 [==============================] - 3s 193us/step - loss: 0.1768 - acc: 0.9515 - val_loss: 0.2221 - val_acc: 0.9278\n",
      "Epoch 61/100\n",
      "18000/18000 [==============================] - 3s 190us/step - loss: 0.1643 - acc: 0.9565 - val_loss: 0.2080 - val_acc: 0.9310\n",
      "Epoch 62/100\n",
      "18000/18000 [==============================] - 4s 195us/step - loss: 0.1506 - acc: 0.9619 - val_loss: 0.2024 - val_acc: 0.9328\n",
      "Epoch 63/100\n",
      "18000/18000 [==============================] - 4s 239us/step - loss: 0.1436 - acc: 0.9640 - val_loss: 0.1833 - val_acc: 0.9418\n",
      "Epoch 64/100\n",
      "18000/18000 [==============================] - 4s 197us/step - loss: 0.1349 - acc: 0.9666 - val_loss: 0.1805 - val_acc: 0.9414\n",
      "Epoch 65/100\n",
      "18000/18000 [==============================] - 3s 186us/step - loss: 0.1275 - acc: 0.9691 - val_loss: 0.1772 - val_acc: 0.9418\n",
      "Epoch 66/100\n",
      "18000/18000 [==============================] - 3s 187us/step - loss: 0.1314 - acc: 0.9657 - val_loss: 0.1728 - val_acc: 0.9446\n",
      "Epoch 67/100\n",
      "18000/18000 [==============================] - 3s 187us/step - loss: 0.1200 - acc: 0.9698 - val_loss: 0.1727 - val_acc: 0.9410\n",
      "Epoch 68/100\n",
      "18000/18000 [==============================] - 3s 185us/step - loss: 0.1137 - acc: 0.9725 - val_loss: 0.1842 - val_acc: 0.9344\n",
      "Epoch 69/100\n",
      "18000/18000 [==============================] - 3s 190us/step - loss: 0.1058 - acc: 0.9752 - val_loss: 0.1538 - val_acc: 0.9484\n",
      "Epoch 70/100\n",
      "18000/18000 [==============================] - 3s 190us/step - loss: 0.1027 - acc: 0.9753 - val_loss: 0.1529 - val_acc: 0.9495\n",
      "Epoch 71/100\n",
      "18000/18000 [==============================] - 3s 189us/step - loss: 0.0983 - acc: 0.9769 - val_loss: 0.1453 - val_acc: 0.9526\n",
      "Epoch 72/100\n",
      "18000/18000 [==============================] - 3s 185us/step - loss: 0.0933 - acc: 0.9782 - val_loss: 0.1383 - val_acc: 0.9547\n",
      "Epoch 73/100\n",
      "18000/18000 [==============================] - 3s 185us/step - loss: 0.0879 - acc: 0.9793 - val_loss: 0.1347 - val_acc: 0.9556\n",
      "Epoch 74/100\n",
      "18000/18000 [==============================] - 3s 186us/step - loss: 0.0848 - acc: 0.9804 - val_loss: 0.1371 - val_acc: 0.9535\n",
      "Epoch 75/100\n",
      "18000/18000 [==============================] - 3s 182us/step - loss: 0.0844 - acc: 0.9803 - val_loss: 0.1277 - val_acc: 0.9562\n",
      "Epoch 76/100\n",
      "18000/18000 [==============================] - 3s 184us/step - loss: 0.0788 - acc: 0.9824 - val_loss: 0.1280 - val_acc: 0.9560\n",
      "Epoch 77/100\n",
      "18000/18000 [==============================] - 3s 183us/step - loss: 0.0859 - acc: 0.9774 - val_loss: 0.1340 - val_acc: 0.9516\n",
      "Epoch 78/100\n",
      "18000/18000 [==============================] - 3s 184us/step - loss: 0.0884 - acc: 0.9762 - val_loss: 0.1369 - val_acc: 0.9514\n",
      "Epoch 79/100\n",
      "18000/18000 [==============================] - 3s 184us/step - loss: 0.0891 - acc: 0.9748 - val_loss: 0.1217 - val_acc: 0.9571\n",
      "Epoch 80/100\n",
      "18000/18000 [==============================] - 3s 185us/step - loss: 0.0663 - acc: 0.9856 - val_loss: 0.1142 - val_acc: 0.9609\n",
      "Epoch 81/100\n",
      "18000/18000 [==============================] - 3s 185us/step - loss: 0.0607 - acc: 0.9874 - val_loss: 0.1092 - val_acc: 0.9625\n",
      "Epoch 82/100\n",
      "18000/18000 [==============================] - 3s 190us/step - loss: 0.0611 - acc: 0.9868 - val_loss: 0.1042 - val_acc: 0.9649\n",
      "Epoch 83/100\n",
      "18000/18000 [==============================] - 3s 187us/step - loss: 0.0725 - acc: 0.9811 - val_loss: 0.1494 - val_acc: 0.9451\n",
      "Epoch 84/100\n",
      "18000/18000 [==============================] - 3s 186us/step - loss: 0.0878 - acc: 0.9741 - val_loss: 0.1157 - val_acc: 0.9603.0880 - acc: 0.974\n",
      "Epoch 85/100\n",
      "18000/18000 [==============================] - 3s 188us/step - loss: 0.0523 - acc: 0.9899 - val_loss: 0.0953 - val_acc: 0.9688\n",
      "Epoch 86/100\n",
      "18000/18000 [==============================] - 3s 183us/step - loss: 0.0481 - acc: 0.9907 - val_loss: 0.0926 - val_acc: 0.9696\n",
      "Epoch 87/100\n",
      "18000/18000 [==============================] - 3s 184us/step - loss: 0.0470 - acc: 0.9910 - val_loss: 0.1003 - val_acc: 0.9646\n",
      "Epoch 88/100\n",
      "18000/18000 [==============================] - 3s 186us/step - loss: 0.0450 - acc: 0.9920 - val_loss: 0.0972 - val_acc: 0.9665\n",
      "Epoch 89/100\n",
      "18000/18000 [==============================] - 3s 182us/step - loss: 0.0539 - acc: 0.9877 - val_loss: 0.1260 - val_acc: 0.9544\n",
      "Epoch 90/100\n",
      "18000/18000 [==============================] - 3s 179us/step - loss: 0.0960 - acc: 0.9692 - val_loss: 0.1130 - val_acc: 0.9604\n",
      "Epoch 91/100\n",
      "18000/18000 [==============================] - 3s 185us/step - loss: 0.0467 - acc: 0.9906 - val_loss: 0.0963 - val_acc: 0.9689\n",
      "Epoch 92/100\n",
      "18000/18000 [==============================] - 3s 183us/step - loss: 0.0404 - acc: 0.9928 - val_loss: 0.0861 - val_acc: 0.9710\n",
      "Epoch 93/100\n",
      "18000/18000 [==============================] - 3s 186us/step - loss: 0.0368 - acc: 0.9939 - val_loss: 0.0859 - val_acc: 0.9714\n",
      "Epoch 94/100\n",
      "18000/18000 [==============================] - 3s 185us/step - loss: 0.0354 - acc: 0.9941 - val_loss: 0.0848 - val_acc: 0.9733\n",
      "Epoch 95/100\n",
      "18000/18000 [==============================] - 3s 183us/step - loss: 0.0364 - acc: 0.9935 - val_loss: 0.0916 - val_acc: 0.9695\n",
      "Epoch 96/100\n",
      "18000/18000 [==============================] - 3s 187us/step - loss: 0.0552 - acc: 0.9857 - val_loss: 0.1828 - val_acc: 0.9369\n",
      "Epoch 97/100\n",
      "18000/18000 [==============================] - 3s 185us/step - loss: 0.0688 - acc: 0.9796 - val_loss: 0.1244 - val_acc: 0.9561\n",
      "Epoch 98/100\n",
      "18000/18000 [==============================] - 3s 183us/step - loss: 0.0504 - acc: 0.9873 - val_loss: 0.0890 - val_acc: 0.9694\n",
      "Epoch 99/100\n",
      "18000/18000 [==============================] - 3s 181us/step - loss: 0.0332 - acc: 0.9939 - val_loss: 0.0770 - val_acc: 0.9741\n",
      "Epoch 100/100\n",
      "18000/18000 [==============================] - 3s 185us/step - loss: 0.0332 - acc: 0.9939 - val_loss: 0.0865 - val_acc: 0.9692\n",
      "Q 643-572 T 71   \u001b[91m☒\u001b[0m 61  \n",
      "Q 270-28  T 242  \u001b[92m☑\u001b[0m 242 \n",
      "Q 136-11  T 125  \u001b[92m☑\u001b[0m 125 \n",
      "Q 468-46  T 422  \u001b[92m☑\u001b[0m 422 \n",
      "Q 935-491 T 444  \u001b[92m☑\u001b[0m 444 \n",
      "Q 780-33  T 747  \u001b[92m☑\u001b[0m 747 \n",
      "Q 280-66  T 214  \u001b[92m☑\u001b[0m 214 \n",
      "Q 431-202 T 229  \u001b[91m☒\u001b[0m 239 \n",
      "Q 874-26  T 848  \u001b[92m☑\u001b[0m 848 \n",
      "Q 921-44  T 877  \u001b[92m☑\u001b[0m 877 \n",
      "Q 926-46  T 880  \u001b[92m☑\u001b[0m 880 \n",
      "Q 156-69  T 87   \u001b[92m☑\u001b[0m 87  \n",
      "Q 93-35   T 58   \u001b[92m☑\u001b[0m 58  \n",
      "Q 189-19  T 170  \u001b[92m☑\u001b[0m 170 \n",
      "Q 934-5   T 929  \u001b[92m☑\u001b[0m 929 \n",
      "Q 669-53  T 616  \u001b[92m☑\u001b[0m 616 \n",
      "Q 291-98  T 193  \u001b[92m☑\u001b[0m 193 \n",
      "Q 207-11  T 196  \u001b[92m☑\u001b[0m 196 \n",
      "Q 121-62  T 59   \u001b[92m☑\u001b[0m 59  \n",
      "Q 443-32  T 411  \u001b[92m☑\u001b[0m 411 \n"
     ]
    }
   ],
   "source": [
    "for iteration in range(1):\n",
    "    print()\n",
    "    print('-' * 50)\n",
    "    print('Iteration', iteration)\n",
    "    model.fit(x_train, y_train,\n",
    "              batch_size=BATCH_SIZE,\n",
    "              epochs=100,\n",
    "              validation_data=(x_val, y_val))\n",
    "    for i in range(20):\n",
    "        ind = np.random.randint(0, len(x_val))\n",
    "        rowx, rowy = x_val[np.array([ind])], y_val[np.array([ind])]\n",
    "        preds = model.predict_classes(rowx, verbose=0)\n",
    "        q = ctable.decode(rowx[0])\n",
    "        correct = ctable.decode(rowy[0])\n",
    "        guess = ctable.decode(preds[0], calc_argmax=False)\n",
    "        print('Q', q[::-1] if REVERSE else q, end=' ')\n",
    "        print('T', correct, end=' ')\n",
    "        if correct == guess:\n",
    "            print(colors.ok + '☑' + colors.close, end=' ')\n",
    "        else:\n",
    "            print(colors.fail + '☒' + colors.close, end=' ')\n",
    "        print(guess)"
   ]
  },
  {
   "cell_type": "markdown",
   "metadata": {},
   "source": [
    "<font size=6>Testing"
   ]
  },
  {
   "cell_type": "code",
   "execution_count": 14,
   "metadata": {},
   "outputs": [
    {
     "name": "stdout",
     "output_type": "stream",
     "text": [
      "MSG : Prediction\n"
     ]
    }
   ],
   "source": [
    "print(\"MSG : Prediction\")\n",
    "\n"
   ]
  }
 ],
 "metadata": {
  "kernelspec": {
   "display_name": "Python [default]",
   "language": "python",
   "name": "python3"
  },
  "language_info": {
   "codemirror_mode": {
    "name": "ipython",
    "version": 3
   },
   "file_extension": ".py",
   "mimetype": "text/x-python",
   "name": "python",
   "nbconvert_exporter": "python",
   "pygments_lexer": "ipython3",
   "version": "3.5.5"
  }
 },
 "nbformat": 4,
 "nbformat_minor": 2
}
