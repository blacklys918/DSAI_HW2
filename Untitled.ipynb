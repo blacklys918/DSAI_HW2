{
 "cells": [
  {
   "cell_type": "markdown",
   "metadata": {},
   "source": [
    "<font size=6>Import"
   ]
  },
  {
   "cell_type": "code",
   "execution_count": 1,
   "metadata": {
    "scrolled": false
   },
   "outputs": [
    {
     "name": "stderr",
     "output_type": "stream",
     "text": [
      "c:\\users\\yang\\anaconda3\\envs\\tensorflow\\lib\\site-packages\\h5py\\__init__.py:36: FutureWarning: Conversion of the second argument of issubdtype from `float` to `np.floating` is deprecated. In future, it will be treated as `np.float64 == np.dtype(float).type`.\n",
      "  from ._conv import register_converters as _register_converters\n",
      "Using TensorFlow backend.\n"
     ]
    }
   ],
   "source": [
    "from keras.models import Sequential\n",
    "from keras import layers\n",
    "import numpy as np\n",
    "from six.moves import range"
   ]
  },
  {
   "cell_type": "markdown",
   "metadata": {},
   "source": [
    "<font size=6> Parameters Config"
   ]
  },
  {
   "cell_type": "code",
   "execution_count": 2,
   "metadata": {},
   "outputs": [],
   "source": [
    "class colors:\n",
    "    ok = '\\033[92m'\n",
    "    fail = '\\033[91m'\n",
    "    close = '\\033[0m'"
   ]
  },
  {
   "cell_type": "code",
   "execution_count": 3,
   "metadata": {},
   "outputs": [],
   "source": [
    "TRAINING_SIZE = 80000\n",
    "DIGITS = 3\n",
    "REVERSE = False\n",
    "MAXLEN = DIGITS + 1 + DIGITS\n",
    "chars = '0123456789+ '\n",
    "RNN = layers.LSTM\n",
    "HIDDEN_SIZE = 128\n",
    "BATCH_SIZE = 128\n",
    "LAYERS = 1"
   ]
  },
  {
   "cell_type": "code",
   "execution_count": 4,
   "metadata": {},
   "outputs": [],
   "source": [
    "class CharacterTable(object):\n",
    "    def __init__(self, chars):\n",
    "        self.chars = sorted(set(chars))\n",
    "        self.char_indices = dict((c, i) for i, c in enumerate(self.chars))\n",
    "        self.indices_char = dict((i, c) for i, c in enumerate(self.chars))\n",
    "    \n",
    "    def encode(self, C, num_rows):\n",
    "        x = np.zeros((num_rows, len(self.chars)))\n",
    "        for i, c in enumerate(C):\n",
    "            x[i, self.char_indices[c]] = 1\n",
    "        return x\n",
    "    \n",
    "    def decode(self, x, calc_argmax=True):\n",
    "        if calc_argmax:\n",
    "            x = x.argmax(axis=-1)\n",
    "        return \"\".join(self.indices_char[i] for i in x)"
   ]
  },
  {
   "cell_type": "code",
   "execution_count": 5,
   "metadata": {},
   "outputs": [],
   "source": [
    "ctable = CharacterTable(chars)"
   ]
  },
  {
   "cell_type": "code",
   "execution_count": 6,
   "metadata": {},
   "outputs": [
    {
     "data": {
      "text/plain": [
       "{0: ' ',\n",
       " 1: '+',\n",
       " 2: '0',\n",
       " 3: '1',\n",
       " 4: '2',\n",
       " 5: '3',\n",
       " 6: '4',\n",
       " 7: '5',\n",
       " 8: '6',\n",
       " 9: '7',\n",
       " 10: '8',\n",
       " 11: '9'}"
      ]
     },
     "execution_count": 6,
     "metadata": {},
     "output_type": "execute_result"
    }
   ],
   "source": [
    "ctable.indices_char"
   ]
  },
  {
   "cell_type": "markdown",
   "metadata": {},
   "source": [
    "<font size=6> Data Generation"
   ]
  },
  {
   "cell_type": "code",
   "execution_count": 7,
   "metadata": {},
   "outputs": [
    {
     "name": "stdout",
     "output_type": "stream",
     "text": [
      "Generating data...\n",
      "Total addition questions: 80000\n"
     ]
    }
   ],
   "source": [
    "questions = []\n",
    "expected = []\n",
    "seen = set()\n",
    "print('Generating data...')\n",
    "while len(questions) < TRAINING_SIZE:\n",
    "    f = lambda: int(''.join(np.random.choice(list('0123456789')) for i in range(np.random.randint(1, DIGITS + 1))))\n",
    "    a, b = f(), f()\n",
    "    key = tuple(sorted((a, b)))\n",
    "    if key in seen:\n",
    "        continue\n",
    "    seen.add(key)\n",
    "    q = '{}+{}'.format(a, b)\n",
    "    query = q + ' ' * (MAXLEN - len(q))\n",
    "    ans = str(a + b)\n",
    "    ans += ' ' * (DIGITS + 1 - len(ans))\n",
    "    if REVERSE:\n",
    "        query = query[::-1]\n",
    "    questions.append(query)\n",
    "    expected.append(ans)\n",
    "print('Total addition questions:', len(questions))"
   ]
  },
  {
   "cell_type": "code",
   "execution_count": 8,
   "metadata": {},
   "outputs": [
    {
     "name": "stdout",
     "output_type": "stream",
     "text": [
      "['12+1   ', '17+3   ', '8+25   ', '92+1   ', '85+96  '] ['13  ', '20  ', '33  ', '93  ', '181 ']\n"
     ]
    }
   ],
   "source": [
    "print(questions[:5], expected[:5])"
   ]
  },
  {
   "cell_type": "markdown",
   "metadata": {},
   "source": [
    "<font size=6>Processing"
   ]
  },
  {
   "cell_type": "code",
   "execution_count": 9,
   "metadata": {},
   "outputs": [
    {
     "name": "stdout",
     "output_type": "stream",
     "text": [
      "Vectorization...\n"
     ]
    }
   ],
   "source": [
    "print('Vectorization...')\n",
    "x = np.zeros((len(questions), MAXLEN, len(chars)), dtype=np.bool)\n",
    "y = np.zeros((len(expected), DIGITS + 1, len(chars)), dtype=np.bool)\n",
    "for i, sentence in enumerate(questions):\n",
    "    x[i] = ctable.encode(sentence, MAXLEN)\n",
    "for i, sentence in enumerate(expected):\n",
    "    y[i] = ctable.encode(sentence, DIGITS + 1)"
   ]
  },
  {
   "cell_type": "code",
   "execution_count": 10,
   "metadata": {},
   "outputs": [
    {
     "name": "stdout",
     "output_type": "stream",
     "text": [
      "Training Data:\n",
      "(18000, 7, 12)\n",
      "(18000, 4, 12)\n",
      "Validation Data:\n",
      "(2000, 7, 12)\n",
      "(2000, 4, 12)\n",
      "Testing Data:\n",
      "(60000, 7, 12)\n",
      "(60000, 4, 12)\n"
     ]
    }
   ],
   "source": [
    "indices = np.arange(len(y))\n",
    "np.random.shuffle(indices)\n",
    "x = x[indices]\n",
    "y = y[indices]\n",
    "\n",
    "# train_test_split\n",
    "train_x = x[:20000]\n",
    "train_y = y[:20000]\n",
    "test_x = x[20000:]\n",
    "test_y = y[20000:]\n",
    "\n",
    "split_at = len(train_x) - len(train_x) // 10\n",
    "(x_train, x_val) = train_x[:split_at], train_x[split_at:]\n",
    "(y_train, y_val) = train_y[:split_at], train_y[split_at:]\n",
    "\n",
    "print('Training Data:')\n",
    "print(x_train.shape)\n",
    "print(y_train.shape)\n",
    "\n",
    "print('Validation Data:')\n",
    "print(x_val.shape)\n",
    "print(y_val.shape)\n",
    "\n",
    "print('Testing Data:')\n",
    "print(test_x.shape)\n",
    "print(test_y.shape)"
   ]
  },
  {
   "cell_type": "code",
   "execution_count": 11,
   "metadata": {},
   "outputs": [
    {
     "name": "stdout",
     "output_type": "stream",
     "text": [
      "input:  [[[False False False False False False  True False False False False\n",
      "   False]\n",
      "  [False False False False False False False  True False False False\n",
      "   False]\n",
      "  [False False False False False False False False False  True False\n",
      "   False]\n",
      "  [False  True False False False False False False False False False\n",
      "   False]\n",
      "  [False False False False  True False False False False False False\n",
      "   False]\n",
      "  [False False False False False False False False False False False\n",
      "    True]\n",
      "  [False False False False False False False  True False False False\n",
      "   False]]\n",
      "\n",
      " [[False False False False False False False False  True False False\n",
      "   False]\n",
      "  [False False False False False  True False False False False False\n",
      "   False]\n",
      "  [False False False False False False False  True False False False\n",
      "   False]\n",
      "  [False  True False False False False False False False False False\n",
      "   False]\n",
      "  [False False False False  True False False False False False False\n",
      "   False]\n",
      "  [False False False False False False False False False False False\n",
      "    True]\n",
      "  [False False False  True False False False False False False False\n",
      "   False]]\n",
      "\n",
      " [[False False False False False False False False  True False False\n",
      "   False]\n",
      "  [False False False False False False  True False False False False\n",
      "   False]\n",
      "  [False  True False False False False False False False False False\n",
      "   False]\n",
      "  [False False False False False False  True False False False False\n",
      "   False]\n",
      "  [False False False False False  True False False False False False\n",
      "   False]\n",
      "  [False False False False False False False False False False False\n",
      "    True]\n",
      "  [ True False False False False False False False False False False\n",
      "   False]]] \n",
      "\n",
      " label:  [[[False False False False False False False False False  True False\n",
      "   False]\n",
      "  [False False False False False False False  True False False False\n",
      "   False]\n",
      "  [False False False False  True False False False False False False\n",
      "   False]\n",
      "  [ True False False False False False False False False False False\n",
      "   False]]\n",
      "\n",
      " [[False False False False False False False False False False False\n",
      "    True]\n",
      "  [False False False False  True False False False False False False\n",
      "   False]\n",
      "  [False False False False False False False False  True False False\n",
      "   False]\n",
      "  [ True False False False False False False False False False False\n",
      "   False]]\n",
      "\n",
      " [[False False False False False False False  True False False False\n",
      "   False]\n",
      "  [False False  True False False False False False False False False\n",
      "   False]\n",
      "  [False False False False False  True False False False False False\n",
      "   False]\n",
      "  [ True False False False False False False False False False False\n",
      "   False]]]\n"
     ]
    }
   ],
   "source": [
    "print(\"input: \", x_train[:3], '\\n\\n', \"label: \", y_train[:3])"
   ]
  },
  {
   "cell_type": "markdown",
   "metadata": {},
   "source": [
    "<font size=6> Build Model"
   ]
  },
  {
   "cell_type": "code",
   "execution_count": 12,
   "metadata": {},
   "outputs": [
    {
     "name": "stdout",
     "output_type": "stream",
     "text": [
      "Build model...\n",
      "_________________________________________________________________\n",
      "Layer (type)                 Output Shape              Param #   \n",
      "=================================================================\n",
      "lstm_1 (LSTM)                (None, 128)               72192     \n",
      "_________________________________________________________________\n",
      "repeat_vector_1 (RepeatVecto (None, 4, 128)            0         \n",
      "_________________________________________________________________\n",
      "lstm_2 (LSTM)                (None, 4, 128)            131584    \n",
      "_________________________________________________________________\n",
      "time_distributed_1 (TimeDist (None, 4, 12)             1548      \n",
      "=================================================================\n",
      "Total params: 205,324\n",
      "Trainable params: 205,324\n",
      "Non-trainable params: 0\n",
      "_________________________________________________________________\n"
     ]
    }
   ],
   "source": [
    "print(\"Build model...\")\n",
    "model = Sequential()\n",
    "model.add(RNN(HIDDEN_SIZE, input_shape=(MAXLEN, len(chars))))\n",
    "model.add(layers.RepeatVector(DIGITS + 1))\n",
    "\n",
    "for _ in range(LAYERS):\n",
    "    model.add(RNN(HIDDEN_SIZE, return_sequences= True))\n",
    "\n",
    "model.add(layers.TimeDistributed(layers.Dense(len(chars), activation= \"softmax\")))\n",
    "model.compile(loss='categorical_crossentropy',\n",
    "              optimizer='adam',\n",
    "              metrics=['accuracy'])\n",
    "model.summary()"
   ]
  },
  {
   "cell_type": "markdown",
   "metadata": {},
   "source": [
    "<font size=6>Training"
   ]
  },
  {
   "cell_type": "code",
   "execution_count": 13,
   "metadata": {},
   "outputs": [
    {
     "name": "stdout",
     "output_type": "stream",
     "text": [
      "\n",
      "--------------------------------------------------\n",
      "Iteration 0\n",
      "Train on 18000 samples, validate on 2000 samples\n",
      "Epoch 1/100\n",
      "18000/18000 [==============================] - 5s 266us/step - loss: 2.0056 - acc: 0.2919 - val_loss: 1.8702 - val_acc: 0.3336\n",
      "Epoch 2/100\n",
      "18000/18000 [==============================] - 3s 188us/step - loss: 1.8511 - acc: 0.3297 - val_loss: 1.8293 - val_acc: 0.3314\n",
      "Epoch 3/100\n",
      "18000/18000 [==============================] - 3s 189us/step - loss: 1.8070 - acc: 0.3315 - val_loss: 1.7909 - val_acc: 0.3403\n",
      "Epoch 4/100\n",
      "18000/18000 [==============================] - 3s 186us/step - loss: 1.7705 - acc: 0.3443 - val_loss: 1.7502 - val_acc: 0.3568\n",
      "Epoch 5/100\n",
      "18000/18000 [==============================] - 3s 188us/step - loss: 1.7091 - acc: 0.3620 - val_loss: 1.6896 - val_acc: 0.3780\n",
      "Epoch 6/100\n",
      "18000/18000 [==============================] - 3s 187us/step - loss: 1.6267 - acc: 0.3888 - val_loss: 1.5876 - val_acc: 0.4081\n",
      "Epoch 7/100\n",
      "18000/18000 [==============================] - 3s 187us/step - loss: 1.5619 - acc: 0.4116 - val_loss: 1.5396 - val_acc: 0.4180\n",
      "Epoch 8/100\n",
      "18000/18000 [==============================] - 3s 189us/step - loss: 1.5134 - acc: 0.4299 - val_loss: 1.5150 - val_acc: 0.4209\n",
      "Epoch 9/100\n",
      "18000/18000 [==============================] - 3s 191us/step - loss: 1.4699 - acc: 0.4461 - val_loss: 1.4781 - val_acc: 0.4502\n",
      "Epoch 10/100\n",
      "18000/18000 [==============================] - 3s 191us/step - loss: 1.4254 - acc: 0.4662 - val_loss: 1.4091 - val_acc: 0.4731\n",
      "Epoch 11/100\n",
      "18000/18000 [==============================] - 3s 189us/step - loss: 1.3801 - acc: 0.4856 - val_loss: 1.3775 - val_acc: 0.4843\n",
      "Epoch 12/100\n",
      "18000/18000 [==============================] - 3s 189us/step - loss: 1.3437 - acc: 0.4991 - val_loss: 1.3381 - val_acc: 0.4944\n",
      "Epoch 13/100\n",
      "18000/18000 [==============================] - 3s 186us/step - loss: 1.3120 - acc: 0.5109 - val_loss: 1.3219 - val_acc: 0.5013\n",
      "Epoch 14/100\n",
      "18000/18000 [==============================] - 3s 189us/step - loss: 1.2789 - acc: 0.5246 - val_loss: 1.2914 - val_acc: 0.5120\n",
      "Epoch 15/100\n",
      "18000/18000 [==============================] - 3s 188us/step - loss: 1.2457 - acc: 0.5392 - val_loss: 1.2517 - val_acc: 0.5341\n",
      "Epoch 16/100\n",
      "18000/18000 [==============================] - 3s 186us/step - loss: 1.2134 - acc: 0.5501 - val_loss: 1.2287 - val_acc: 0.5370\n",
      "Epoch 17/100\n",
      "18000/18000 [==============================] - 3s 189us/step - loss: 1.1851 - acc: 0.5588 - val_loss: 1.1902 - val_acc: 0.5484\n",
      "Epoch 18/100\n",
      "18000/18000 [==============================] - 3s 188us/step - loss: 1.1414 - acc: 0.5762 - val_loss: 1.1568 - val_acc: 0.5616\n",
      "Epoch 19/100\n",
      "18000/18000 [==============================] - 3s 188us/step - loss: 1.1085 - acc: 0.5878 - val_loss: 1.1154 - val_acc: 0.5779\n",
      "Epoch 20/100\n",
      "18000/18000 [==============================] - 3s 189us/step - loss: 1.0657 - acc: 0.6059 - val_loss: 1.0801 - val_acc: 0.5908\n",
      "Epoch 21/100\n",
      "18000/18000 [==============================] - 3s 189us/step - loss: 1.0366 - acc: 0.6136 - val_loss: 1.0460 - val_acc: 0.6023\n",
      "Epoch 22/100\n",
      "18000/18000 [==============================] - 3s 190us/step - loss: 1.0023 - acc: 0.6266 - val_loss: 1.0342 - val_acc: 0.5989\n",
      "Epoch 23/100\n",
      "18000/18000 [==============================] - 3s 191us/step - loss: 0.9591 - acc: 0.6441 - val_loss: 0.9835 - val_acc: 0.6197\n",
      "Epoch 24/100\n",
      "18000/18000 [==============================] - 3s 190us/step - loss: 0.9174 - acc: 0.6588 - val_loss: 0.9383 - val_acc: 0.6339\n",
      "Epoch 25/100\n",
      "18000/18000 [==============================] - 3s 191us/step - loss: 0.8676 - acc: 0.6795 - val_loss: 0.8890 - val_acc: 0.6521\n",
      "Epoch 26/100\n",
      "18000/18000 [==============================] - 3s 186us/step - loss: 0.8171 - acc: 0.6946 - val_loss: 0.8295 - val_acc: 0.6748\n",
      "Epoch 27/100\n",
      "18000/18000 [==============================] - 3s 185us/step - loss: 0.7637 - acc: 0.7145 - val_loss: 0.7648 - val_acc: 0.7014\n",
      "Epoch 28/100\n",
      "18000/18000 [==============================] - 3s 186us/step - loss: 0.6918 - acc: 0.7456 - val_loss: 0.6982 - val_acc: 0.7257\n",
      "Epoch 29/100\n",
      "18000/18000 [==============================] - 3s 186us/step - loss: 0.6338 - acc: 0.7675 - val_loss: 0.6493 - val_acc: 0.7431\n",
      "Epoch 30/100\n",
      "18000/18000 [==============================] - 3s 188us/step - loss: 0.5723 - acc: 0.7968 - val_loss: 0.5812 - val_acc: 0.7814\n",
      "Epoch 31/100\n",
      "18000/18000 [==============================] - 3s 188us/step - loss: 0.5284 - acc: 0.8160 - val_loss: 0.5471 - val_acc: 0.7907\n",
      "Epoch 32/100\n",
      "18000/18000 [==============================] - 3s 188us/step - loss: 0.4690 - acc: 0.8448 - val_loss: 0.4935 - val_acc: 0.8251\n",
      "Epoch 33/100\n",
      "18000/18000 [==============================] - 3s 187us/step - loss: 0.4262 - acc: 0.8677 - val_loss: 0.4645 - val_acc: 0.8356\n",
      "Epoch 34/100\n",
      "18000/18000 [==============================] - 3s 189us/step - loss: 0.3863 - acc: 0.8849 - val_loss: 0.4154 - val_acc: 0.8525\n",
      "Epoch 35/100\n",
      "18000/18000 [==============================] - 3s 187us/step - loss: 0.3546 - acc: 0.8979 - val_loss: 0.3786 - val_acc: 0.8761\n",
      "Epoch 36/100\n",
      "18000/18000 [==============================] - 3s 185us/step - loss: 0.3368 - acc: 0.9047 - val_loss: 0.3537 - val_acc: 0.8814\n",
      "Epoch 37/100\n",
      "18000/18000 [==============================] - 3s 185us/step - loss: 0.2976 - acc: 0.9225 - val_loss: 0.3669 - val_acc: 0.8731\n",
      "Epoch 38/100\n",
      "18000/18000 [==============================] - 3s 190us/step - loss: 0.2690 - acc: 0.9338 - val_loss: 0.3013 - val_acc: 0.9040\n",
      "Epoch 39/100\n",
      "18000/18000 [==============================] - 3s 185us/step - loss: 0.2400 - acc: 0.9445 - val_loss: 0.2768 - val_acc: 0.9133\n",
      "Epoch 40/100\n",
      "18000/18000 [==============================] - 3s 186us/step - loss: 0.2200 - acc: 0.9508 - val_loss: 0.2972 - val_acc: 0.8942\n",
      "Epoch 41/100\n",
      "18000/18000 [==============================] - 3s 194us/step - loss: 0.2036 - acc: 0.9550 - val_loss: 0.2668 - val_acc: 0.9159\n",
      "Epoch 42/100\n",
      "18000/18000 [==============================] - 3s 186us/step - loss: 0.1873 - acc: 0.9596 - val_loss: 0.2183 - val_acc: 0.9361\n",
      "Epoch 43/100\n",
      "18000/18000 [==============================] - 3s 184us/step - loss: 0.1741 - acc: 0.9626 - val_loss: 0.2040 - val_acc: 0.9407\n",
      "Epoch 44/100\n",
      "18000/18000 [==============================] - 3s 189us/step - loss: 0.1536 - acc: 0.9700 - val_loss: 0.2231 - val_acc: 0.9290\n",
      "Epoch 45/100\n",
      "18000/18000 [==============================] - 3s 182us/step - loss: 0.1499 - acc: 0.9685 - val_loss: 0.1851 - val_acc: 0.9432\n",
      "Epoch 46/100\n",
      "18000/18000 [==============================] - 3s 182us/step - loss: 0.1348 - acc: 0.9733 - val_loss: 0.1654 - val_acc: 0.9524\n",
      "Epoch 47/100\n",
      "18000/18000 [==============================] - 3s 185us/step - loss: 0.1177 - acc: 0.9795 - val_loss: 0.1669 - val_acc: 0.9498\n",
      "Epoch 48/100\n",
      "18000/18000 [==============================] - 3s 186us/step - loss: 0.1067 - acc: 0.9818 - val_loss: 0.1474 - val_acc: 0.9571\n",
      "Epoch 49/100\n",
      "18000/18000 [==============================] - 3s 188us/step - loss: 0.0955 - acc: 0.9857 - val_loss: 0.1383 - val_acc: 0.9598\n",
      "Epoch 50/100\n",
      "18000/18000 [==============================] - 4s 196us/step - loss: 0.0978 - acc: 0.9826 - val_loss: 0.1415 - val_acc: 0.9581loss: 0.0978 - acc: 0.9\n",
      "Epoch 51/100\n",
      "18000/18000 [==============================] - 4s 198us/step - loss: 0.1228 - acc: 0.9680 - val_loss: 0.1576 - val_acc: 0.9464\n",
      "Epoch 52/100\n",
      "18000/18000 [==============================] - 4s 196us/step - loss: 0.0831 - acc: 0.9858 - val_loss: 0.1203 - val_acc: 0.9640\n",
      "Epoch 53/100\n",
      "18000/18000 [==============================] - 3s 194us/step - loss: 0.0700 - acc: 0.9896 - val_loss: 0.1141 - val_acc: 0.9664\n",
      "Epoch 54/100\n",
      "18000/18000 [==============================] - 4s 202us/step - loss: 0.0738 - acc: 0.9869 - val_loss: 0.1579 - val_acc: 0.9463\n",
      "Epoch 55/100\n",
      "18000/18000 [==============================] - 3s 185us/step - loss: 0.1037 - acc: 0.9732 - val_loss: 0.1164 - val_acc: 0.9631\n",
      "Epoch 56/100\n",
      "18000/18000 [==============================] - 3s 184us/step - loss: 0.0584 - acc: 0.9917 - val_loss: 0.0961 - val_acc: 0.9712\n",
      "Epoch 57/100\n",
      "18000/18000 [==============================] - 3s 189us/step - loss: 0.0503 - acc: 0.9941 - val_loss: 0.0930 - val_acc: 0.9724\n",
      "Epoch 58/100\n"
     ]
    },
    {
     "name": "stdout",
     "output_type": "stream",
     "text": [
      "18000/18000 [==============================] - 3s 182us/step - loss: 0.0475 - acc: 0.9946 - val_loss: 0.0954 - val_acc: 0.9693\n",
      "Epoch 59/100\n",
      "18000/18000 [==============================] - 3s 181us/step - loss: 0.0445 - acc: 0.9951 - val_loss: 0.1002 - val_acc: 0.9680\n",
      "Epoch 60/100\n",
      "18000/18000 [==============================] - 3s 185us/step - loss: 0.0424 - acc: 0.9949 - val_loss: 0.0860 - val_acc: 0.9720\n",
      "Epoch 61/100\n",
      "18000/18000 [==============================] - 3s 182us/step - loss: 0.0428 - acc: 0.9937 - val_loss: 0.0974 - val_acc: 0.9684\n",
      "Epoch 62/100\n",
      "18000/18000 [==============================] - 3s 181us/step - loss: 0.0442 - acc: 0.9929 - val_loss: 0.0945 - val_acc: 0.9675\n",
      "Epoch 63/100\n",
      "18000/18000 [==============================] - 3s 181us/step - loss: 0.0735 - acc: 0.9812 - val_loss: 0.2194 - val_acc: 0.9126\n",
      "Epoch 64/100\n",
      "18000/18000 [==============================] - 3s 183us/step - loss: 0.0980 - acc: 0.9699 - val_loss: 0.0810 - val_acc: 0.9758\n",
      "Epoch 65/100\n",
      "18000/18000 [==============================] - 3s 182us/step - loss: 0.0322 - acc: 0.9966 - val_loss: 0.0712 - val_acc: 0.9769\n",
      "Epoch 66/100\n",
      "18000/18000 [==============================] - 3s 183us/step - loss: 0.0271 - acc: 0.9977 - val_loss: 0.0723 - val_acc: 0.9770\n",
      "Epoch 67/100\n",
      "18000/18000 [==============================] - 3s 182us/step - loss: 0.0260 - acc: 0.9976 - val_loss: 0.0730 - val_acc: 0.9782\n",
      "Epoch 68/100\n",
      "18000/18000 [==============================] - 3s 184us/step - loss: 0.0246 - acc: 0.9979 - val_loss: 0.0628 - val_acc: 0.9790\n",
      "Epoch 69/100\n",
      "18000/18000 [==============================] - 3s 185us/step - loss: 0.0220 - acc: 0.9984 - val_loss: 0.0619 - val_acc: 0.9806\n",
      "Epoch 70/100\n",
      "18000/18000 [==============================] - 3s 181us/step - loss: 0.0216 - acc: 0.9980 - val_loss: 0.0756 - val_acc: 0.9746\n",
      "Epoch 71/100\n",
      "18000/18000 [==============================] - 3s 185us/step - loss: 0.0332 - acc: 0.9935 - val_loss: 0.1132 - val_acc: 0.9586\n",
      "Epoch 72/100\n",
      "18000/18000 [==============================] - 3s 183us/step - loss: 0.0542 - acc: 0.9850 - val_loss: 0.0999 - val_acc: 0.9641\n",
      "Epoch 73/100\n",
      "18000/18000 [==============================] - 3s 183us/step - loss: 0.1341 - acc: 0.9608 - val_loss: 0.2068 - val_acc: 0.9251\n",
      "Epoch 74/100\n",
      "18000/18000 [==============================] - 3s 181us/step - loss: 0.0479 - acc: 0.9877 - val_loss: 0.0678 - val_acc: 0.9772\n",
      "Epoch 75/100\n",
      "18000/18000 [==============================] - 3s 184us/step - loss: 0.0180 - acc: 0.9988 - val_loss: 0.0583 - val_acc: 0.9810\n",
      "Epoch 76/100\n",
      "18000/18000 [==============================] - 3s 179us/step - loss: 0.0150 - acc: 0.9995 - val_loss: 0.0559 - val_acc: 0.9808\n",
      "Epoch 77/100\n",
      "18000/18000 [==============================] - 3s 180us/step - loss: 0.0138 - acc: 0.9995 - val_loss: 0.0545 - val_acc: 0.9804\n",
      "Epoch 78/100\n",
      "18000/18000 [==============================] - 3s 178us/step - loss: 0.0130 - acc: 0.9995 - val_loss: 0.0525 - val_acc: 0.9830\n",
      "Epoch 79/100\n",
      "18000/18000 [==============================] - 3s 182us/step - loss: 0.0123 - acc: 0.9995 - val_loss: 0.0555 - val_acc: 0.9816\n",
      "Epoch 80/100\n",
      "18000/18000 [==============================] - 3s 182us/step - loss: 0.0118 - acc: 0.9996 - val_loss: 0.0521 - val_acc: 0.9822\n",
      "Epoch 81/100\n",
      "18000/18000 [==============================] - 3s 180us/step - loss: 0.0110 - acc: 0.9997 - val_loss: 0.0508 - val_acc: 0.9829\n",
      "Epoch 82/100\n",
      "18000/18000 [==============================] - 3s 181us/step - loss: 0.0103 - acc: 0.9998 - val_loss: 0.0546 - val_acc: 0.9809\n",
      "Epoch 83/100\n",
      "18000/18000 [==============================] - 3s 185us/step - loss: 0.0110 - acc: 0.9995 - val_loss: 0.0585 - val_acc: 0.9793\n",
      "Epoch 84/100\n",
      "18000/18000 [==============================] - 3s 188us/step - loss: 0.0222 - acc: 0.9951 - val_loss: 0.1337 - val_acc: 0.9525\n",
      "Epoch 85/100\n",
      "18000/18000 [==============================] - 3s 185us/step - loss: 0.1113 - acc: 0.9616 - val_loss: 0.1307 - val_acc: 0.9514\n",
      "Epoch 86/100\n",
      "18000/18000 [==============================] - 3s 185us/step - loss: 0.0332 - acc: 0.9911 - val_loss: 0.0840 - val_acc: 0.9690\n",
      "Epoch 87/100\n",
      "18000/18000 [==============================] - 3s 184us/step - loss: 0.0157 - acc: 0.9981 - val_loss: 0.0513 - val_acc: 0.9830\n",
      "Epoch 88/100\n",
      "18000/18000 [==============================] - 3s 186us/step - loss: 0.0097 - acc: 0.9996 - val_loss: 0.0438 - val_acc: 0.9843\n",
      "Epoch 89/100\n",
      "18000/18000 [==============================] - 3s 186us/step - loss: 0.0080 - acc: 0.9998 - val_loss: 0.0436 - val_acc: 0.9845\n",
      "Epoch 90/100\n",
      "18000/18000 [==============================] - 3s 186us/step - loss: 0.0075 - acc: 0.9998 - val_loss: 0.0452 - val_acc: 0.9836\n",
      "Epoch 91/100\n",
      "18000/18000 [==============================] - 3s 185us/step - loss: 0.0074 - acc: 0.9998 - val_loss: 0.0409 - val_acc: 0.9850\n",
      "Epoch 92/100\n",
      "18000/18000 [==============================] - 3s 184us/step - loss: 0.0068 - acc: 0.9998 - val_loss: 0.0500 - val_acc: 0.9828\n",
      "Epoch 93/100\n",
      "18000/18000 [==============================] - 3s 185us/step - loss: 0.0134 - acc: 0.9972 - val_loss: 0.0788 - val_acc: 0.9732\n",
      "Epoch 94/100\n",
      "18000/18000 [==============================] - 3s 184us/step - loss: 0.0867 - acc: 0.9703 - val_loss: 0.1546 - val_acc: 0.9475\n",
      "Epoch 95/100\n",
      "18000/18000 [==============================] - ETA: 0s - loss: 0.0706 - acc: 0.978 - 3s 186us/step - loss: 0.0704 - acc: 0.9784 - val_loss: 0.0747 - val_acc: 0.9744\n",
      "Epoch 96/100\n",
      "18000/18000 [==============================] - 3s 183us/step - loss: 0.0114 - acc: 0.9991 - val_loss: 0.0446 - val_acc: 0.9840\n",
      "Epoch 97/100\n",
      "18000/18000 [==============================] - 3s 184us/step - loss: 0.0072 - acc: 0.9998 - val_loss: 0.0398 - val_acc: 0.9850\n",
      "Epoch 98/100\n",
      "18000/18000 [==============================] - 3s 184us/step - loss: 0.0060 - acc: 1.0000 - val_loss: 0.0388 - val_acc: 0.9858\n",
      "Epoch 99/100\n",
      "18000/18000 [==============================] - 3s 184us/step - loss: 0.0055 - acc: 0.9999 - val_loss: 0.0383 - val_acc: 0.9868\n",
      "Epoch 100/100\n",
      "18000/18000 [==============================] - 3s 182us/step - loss: 0.0053 - acc: 0.9999 - val_loss: 0.0386 - val_acc: 0.9860\n",
      "Q 972+464 T 1436 \u001b[92m☑\u001b[0m 1436\n",
      "Q 591+31  T 622  \u001b[92m☑\u001b[0m 622 \n",
      "Q 2+85    T 87   \u001b[92m☑\u001b[0m 87  \n",
      "Q 931+306 T 1237 \u001b[92m☑\u001b[0m 1237\n",
      "Q 438+628 T 1066 \u001b[92m☑\u001b[0m 1066\n",
      "Q 591+31  T 622  \u001b[92m☑\u001b[0m 622 \n",
      "Q 38+27   T 65   \u001b[92m☑\u001b[0m 65  \n",
      "Q 501+870 T 1371 \u001b[92m☑\u001b[0m 1371\n",
      "Q 495+10  T 505  \u001b[91m☒\u001b[0m 405 \n",
      "Q 589+977 T 1566 \u001b[92m☑\u001b[0m 1566\n"
     ]
    }
   ],
   "source": [
    "for iteration in range(1):\n",
    "    print()\n",
    "    print('-' * 50)\n",
    "    print('Iteration', iteration)\n",
    "    model.fit(x_train, y_train,\n",
    "              batch_size=BATCH_SIZE,\n",
    "              epochs=100,\n",
    "              validation_data=(x_val, y_val))\n",
    "    for i in range(10):\n",
    "        ind = np.random.randint(0, len(x_val))\n",
    "        rowx, rowy = x_val[np.array([ind])], y_val[np.array([ind])]\n",
    "        preds = model.predict_classes(rowx, verbose=0)\n",
    "        q = ctable.decode(rowx[0])\n",
    "        correct = ctable.decode(rowy[0])\n",
    "        guess = ctable.decode(preds[0], calc_argmax=False)\n",
    "        print('Q', q[::-1] if REVERSE else q, end=' ')\n",
    "        print('T', correct, end=' ')\n",
    "        if correct == guess:\n",
    "            print(colors.ok + '☑' + colors.close, end=' ')\n",
    "        else:\n",
    "            print(colors.fail + '☒' + colors.close, end=' ')\n",
    "        print(guess)"
   ]
  },
  {
   "cell_type": "markdown",
   "metadata": {},
   "source": [
    "<font size=6>Testing"
   ]
  },
  {
   "cell_type": "code",
   "execution_count": 14,
   "metadata": {},
   "outputs": [
    {
     "name": "stdout",
     "output_type": "stream",
     "text": [
      "MSG : Prediction\n"
     ]
    }
   ],
   "source": [
    "print(\"MSG : Prediction\")\n"
   ]
  },
  {
   "cell_type": "code",
   "execution_count": null,
   "metadata": {},
   "outputs": [],
   "source": []
  }
 ],
 "metadata": {
  "kernelspec": {
   "display_name": "Python [default]",
   "language": "python",
   "name": "python3"
  },
  "language_info": {
   "codemirror_mode": {
    "name": "ipython",
    "version": 3
   },
   "file_extension": ".py",
   "mimetype": "text/x-python",
   "name": "python",
   "nbconvert_exporter": "python",
   "pygments_lexer": "ipython3",
   "version": "3.5.5"
  }
 },
 "nbformat": 4,
 "nbformat_minor": 2
}
